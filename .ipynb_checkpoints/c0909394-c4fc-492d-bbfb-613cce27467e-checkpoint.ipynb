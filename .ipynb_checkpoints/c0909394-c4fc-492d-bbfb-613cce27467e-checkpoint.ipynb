{
 "cells": [
  {
   "cell_type": "markdown",
   "id": "07f89f71-1ced-4924-9e97-b9ad903c699f",
   "metadata": {},
   "source": [
    "# Проект: Линейные модели в машинном обучении"
   ]
  },
  {
   "cell_type": "markdown",
   "id": "bcd9efeb-c1cd-4129-9225-247a0a59f3b5",
   "metadata": {},
   "source": [
    "**Описание проекта:** Молочное хозяйство «Вольный луг» хочет расширить поголовье стада коров. Для этого был заключен выгодный контракт с ассоциацией пастбищ «ЭкоФерма».\n",
    "Условия позволяют очень тщательно отобрать коров, а именно определить качество молока по строгой методике, и при этом необходимо выполнять план развития молочного хозяйства. Молочное хозяйство «Вольный луг» хочет, чтобы каждая бурёнка давала не менее 6000 килограммов молока в год, а её надой был вкусным — строго по его критериям, ничуть не хуже. \n",
    "\n",
    "**Цель исследования:** Разработать две прогнозные модели для отбора бурёнок в поголовье, которая поможет ему управлять рисками и принимать объективное решение о покупке коров для молочного хозяйства «Вольный луг»:\n",
    "\n",
    "* Первая будет прогнозировать возможный удой коровы (целевой признак Удой);\n",
    "* Вторая — рассчитывать вероятность получить вкусное молоко от коровы (целевой признак Вкус молока).\n",
    "\n",
    "С помощью моделей нужно отобрать коров по двум критериям:\n",
    "\n",
    "* средний удой за год — не менее 6000 килограммов;\n",
    "* молоко должно быть вкусным.\n",
    "\n",
    "**Ход исследования:**\n",
    "\n",
    "* Подготовка данных: \n",
    "* Предобработка данных: \n",
    "* Исследовательский анализ:\n",
    "* Корреляционный анализ:\n",
    "* Обучение модели линейной регрессии:\n",
    "* Обучение модели логистической регрессии: \n",
    "\n",
    "**Общий вывод:** резюмирование полученных результатов, формулировка ключевых выводов и рекомендаций."
   ]
  },
  {
   "cell_type": "markdown",
   "id": "7dfff82a-424e-47b5-9cba-ba1303528f70",
   "metadata": {},
   "source": [
    "## Подготовка рабочей среды и вспомогательные функции:"
   ]
  },
  {
   "cell_type": "markdown",
   "id": "5c369cb8-8e89-4aac-a316-a4dd0770147b",
   "metadata": {},
   "source": [
    "### Импорт библиотек:"
   ]
  },
  {
   "cell_type": "code",
   "execution_count": 1,
   "id": "e195bd24-9116-446b-bbfc-20fc863272cc",
   "metadata": {},
   "outputs": [],
   "source": [
    "# Импорт библиотек\n",
    "import pandas as pd\n",
    "import matplotlib.pyplot as plt\n",
    "import seaborn as sns\n",
    "import numpy as np"
   ]
  },
  {
   "cell_type": "markdown",
   "id": "e3c6a31b-b24d-48ad-811b-a4c92c8d3d4f",
   "metadata": {},
   "source": [
    "### Базовые настройки блокнота:"
   ]
  },
  {
   "cell_type": "code",
   "execution_count": 2,
   "id": "413ee895-aa02-4fc1-97bb-b5f521445bdc",
   "metadata": {},
   "outputs": [],
   "source": [
    "# Стиль графиков по умолчанию\n",
    "sns.set()\n",
    "# Убираем ограничение на кол-во отображаемых колонок в таблицах\n",
    "pd.set_option('display.max_columns', None)"
   ]
  },
  {
   "cell_type": "markdown",
   "id": "46fba89e-62e2-4d3e-97d0-7e85ee565ccf",
   "metadata": {},
   "source": [
    "### Функции:"
   ]
  },
  {
   "cell_type": "markdown",
   "id": "9f270f1f",
   "metadata": {},
   "source": [
    "## Общая информация о данных:"
   ]
  },
  {
   "cell_type": "code",
   "execution_count": 3,
   "id": "518c12d8",
   "metadata": {},
   "outputs": [],
   "source": [
    "# Чтение датафреймов\n",
    "try:\n",
    "    df_ferma_main = pd.read_csv('/Users/kirill_shiryaev/Desktop/Обучение/Проекты/Линейные модели в МО/ferma_main.csv', sep=';')\n",
    "    df_ferma_dad = pd.read_csv('/Users/kirill_shiryaev/Desktop/Обучение/Проекты/Линейные модели в МО/ferma_dad.csv', sep=';')\n",
    "    df_cow_buy = pd.read_csv('/Users/kirill_shiryaev/Desktop/Обучение/Проекты/Линейные модели в МО/cow_buy.csv', sep=';')\n",
    "except:\n",
    "    df_ferma_main = pd.read_csv('/datasets/ferma_main.csv', sep=';')\n",
    "    df_ferma_dad = pd.read_csv('/datasets/ferma_dad.csv', sep=';')\n",
    "    df_cow_buy = pd.read_csv('/datasets/cow_buy.csv', sep=';')"
   ]
  },
  {
   "cell_type": "markdown",
   "id": "19a94d1e-d69e-4a91-bdf4-aae77c2f746a",
   "metadata": {},
   "source": [
    "### Датафрейм \"df_ferma_main\":"
   ]
  },
  {
   "cell_type": "markdown",
   "id": "743f3d1f-0733-44b0-acd1-c0fd8ad75238",
   "metadata": {},
   "source": [
    "**ferma_main.csv** - датафрейм содержит данные о стаде фермера на текущий момент. \n",
    "\n",
    "**Описание данных:**\n",
    "\n",
    "* **id** — уникальный идентификатор коровы.\n",
    "* **milk_yield_kg** — масса молока, которую корова даёт в год (в килограммах).\n",
    "* **efu** — энергетическая кормовая единица - показатель питательности корма коровы.\n",
    "* **crude_protein_g** — содержание сырого протеина в корме (в граммах).\n",
    "* **spr** — отношение сахара к протеину в корме коровы.\n",
    "* **breed** — порода коровы.\n",
    "* **type_pasture** — тип пастбища - ландшафт лугов, на которых паслась корова.\n",
    "* **daddy_breed** — порода папы коровы.\n",
    "* **fat_content_%** — содержание жиров в молоке (в процентах).\n",
    "* **protein_content_%** — содержание белков в молоке (в процентах).\n",
    "* **taste_milk** — оценка вкуса по личным критериям фермера, бинарный признак (вкусно, не вкусно).\n",
    "* **age** — возраст коровы, бинарный признак (менее_2_лет, более_2_лет)."
   ]
  },
  {
   "cell_type": "code",
   "execution_count": 4,
   "id": "b84caa23-b326-404b-b455-c89caa30543d",
   "metadata": {},
   "outputs": [],
   "source": [
    "# Переименование столбцов датафрейма\n",
    "df_ferma_main.columns = ['id', 'milk_yield_kg', 'efu', 'crude_protein_g', \n",
    "                         'spr', 'breed', 'type_pasture', 'daddy_breed', \n",
    "                         'fat_content_%', 'protein_content_%', 'taste_milk', \n",
    "                         'age']"
   ]
  },
  {
   "cell_type": "code",
   "execution_count": 5,
   "id": "362c515e-53f4-402e-a1eb-19137c2e7595",
   "metadata": {},
   "outputs": [
    {
     "name": "stdout",
     "output_type": "stream",
     "text": [
      "<class 'pandas.core.frame.DataFrame'>\n",
      "RangeIndex: 634 entries, 0 to 633\n",
      "Data columns (total 12 columns):\n",
      " #   Column             Non-Null Count  Dtype \n",
      "---  ------             --------------  ----- \n",
      " 0   id                 634 non-null    int64 \n",
      " 1   milk_yield_kg      634 non-null    int64 \n",
      " 2   efu                634 non-null    object\n",
      " 3   crude_protein_g    634 non-null    int64 \n",
      " 4   spr                634 non-null    object\n",
      " 5   breed              634 non-null    object\n",
      " 6   type_pasture       634 non-null    object\n",
      " 7   daddy_breed        634 non-null    object\n",
      " 8   fat_content_%      634 non-null    object\n",
      " 9   protein_content_%  634 non-null    object\n",
      " 10  taste_milk         634 non-null    object\n",
      " 11  age                634 non-null    object\n",
      "dtypes: int64(3), object(9)\n",
      "memory usage: 59.6+ KB\n"
     ]
    }
   ],
   "source": [
    "# Основная информация о датафрейме\n",
    "df_ferma_main.info()"
   ]
  },
  {
   "cell_type": "code",
   "execution_count": 6,
   "id": "98dba6ec-5f09-4e76-8a9b-0834f13898ef",
   "metadata": {},
   "outputs": [
    {
     "data": {
      "text/html": [
       "<div>\n",
       "<style scoped>\n",
       "    .dataframe tbody tr th:only-of-type {\n",
       "        vertical-align: middle;\n",
       "    }\n",
       "\n",
       "    .dataframe tbody tr th {\n",
       "        vertical-align: top;\n",
       "    }\n",
       "\n",
       "    .dataframe thead th {\n",
       "        text-align: right;\n",
       "    }\n",
       "</style>\n",
       "<table border=\"1\" class=\"dataframe\">\n",
       "  <thead>\n",
       "    <tr style=\"text-align: right;\">\n",
       "      <th></th>\n",
       "      <th>id</th>\n",
       "      <th>milk_yield_kg</th>\n",
       "      <th>efu</th>\n",
       "      <th>crude_protein_g</th>\n",
       "      <th>spr</th>\n",
       "      <th>breed</th>\n",
       "      <th>type_pasture</th>\n",
       "      <th>daddy_breed</th>\n",
       "      <th>fat_content_%</th>\n",
       "      <th>protein_content_%</th>\n",
       "      <th>taste_milk</th>\n",
       "      <th>age</th>\n",
       "    </tr>\n",
       "  </thead>\n",
       "  <tbody>\n",
       "    <tr>\n",
       "      <th>0</th>\n",
       "      <td>1</td>\n",
       "      <td>5863</td>\n",
       "      <td>14,2</td>\n",
       "      <td>1743</td>\n",
       "      <td>0,89</td>\n",
       "      <td>Вис Бик Айдиал</td>\n",
       "      <td>Равнинное</td>\n",
       "      <td>Айдиал</td>\n",
       "      <td>3,58</td>\n",
       "      <td>3,076</td>\n",
       "      <td>вкусно</td>\n",
       "      <td>более_2_лет</td>\n",
       "    </tr>\n",
       "    <tr>\n",
       "      <th>1</th>\n",
       "      <td>2</td>\n",
       "      <td>5529</td>\n",
       "      <td>12,8</td>\n",
       "      <td>2138</td>\n",
       "      <td>0,89</td>\n",
       "      <td>Вис Бик Айдиал</td>\n",
       "      <td>Равнинные</td>\n",
       "      <td>Соверин</td>\n",
       "      <td>3,54</td>\n",
       "      <td>3,079</td>\n",
       "      <td>вкусно</td>\n",
       "      <td>менее_2_лет</td>\n",
       "    </tr>\n",
       "    <tr>\n",
       "      <th>2</th>\n",
       "      <td>3</td>\n",
       "      <td>5810</td>\n",
       "      <td>14</td>\n",
       "      <td>1854</td>\n",
       "      <td>0,885</td>\n",
       "      <td>РефлешнСоверинг</td>\n",
       "      <td>Холмистое</td>\n",
       "      <td>Соверин</td>\n",
       "      <td>3,59</td>\n",
       "      <td>3,074</td>\n",
       "      <td>не вкусно</td>\n",
       "      <td>более_2_лет</td>\n",
       "    </tr>\n",
       "    <tr>\n",
       "      <th>3</th>\n",
       "      <td>4</td>\n",
       "      <td>5895</td>\n",
       "      <td>12,4</td>\n",
       "      <td>2012</td>\n",
       "      <td>0,885</td>\n",
       "      <td>РефлешнСоверинг</td>\n",
       "      <td>Холмистое</td>\n",
       "      <td>Айдиал</td>\n",
       "      <td>3,4</td>\n",
       "      <td>3,075</td>\n",
       "      <td>не вкусно</td>\n",
       "      <td>более_2_лет</td>\n",
       "    </tr>\n",
       "    <tr>\n",
       "      <th>4</th>\n",
       "      <td>5</td>\n",
       "      <td>5302</td>\n",
       "      <td>12,8</td>\n",
       "      <td>1675</td>\n",
       "      <td>0,885</td>\n",
       "      <td>Вис Бик Айдиал</td>\n",
       "      <td>Равнинные</td>\n",
       "      <td>Соверин</td>\n",
       "      <td>3,73</td>\n",
       "      <td>3,073</td>\n",
       "      <td>вкусно</td>\n",
       "      <td>менее_2_лет</td>\n",
       "    </tr>\n",
       "  </tbody>\n",
       "</table>\n",
       "</div>"
      ],
      "text/plain": [
       "   id  milk_yield_kg   efu  crude_protein_g    spr            breed  \\\n",
       "0   1           5863  14,2             1743   0,89   Вис Бик Айдиал   \n",
       "1   2           5529  12,8             2138   0,89   Вис Бик Айдиал   \n",
       "2   3           5810    14             1854  0,885  РефлешнСоверинг   \n",
       "3   4           5895  12,4             2012  0,885  РефлешнСоверинг   \n",
       "4   5           5302  12,8             1675  0,885   Вис Бик Айдиал   \n",
       "\n",
       "  type_pasture daddy_breed fat_content_% protein_content_% taste_milk  \\\n",
       "0    Равнинное      Айдиал          3,58             3,076     вкусно   \n",
       "1    Равнинные     Соверин          3,54             3,079     вкусно   \n",
       "2    Холмистое     Соверин          3,59             3,074  не вкусно   \n",
       "3    Холмистое      Айдиал           3,4             3,075  не вкусно   \n",
       "4    Равнинные     Соверин          3,73             3,073     вкусно   \n",
       "\n",
       "           age  \n",
       "0  более_2_лет  \n",
       "1  менее_2_лет  \n",
       "2  более_2_лет  \n",
       "3  более_2_лет  \n",
       "4  менее_2_лет  "
      ]
     },
     "execution_count": 6,
     "metadata": {},
     "output_type": "execute_result"
    }
   ],
   "source": [
    "# Первые 5 строчек датафрейма\n",
    "df_ferma_main.head()"
   ]
  },
  {
   "cell_type": "markdown",
   "id": "6ed1b0ea-e61b-4720-b2de-c806fbe52a9a",
   "metadata": {},
   "source": [
    "### Датафрейм \"df_ferma_dad\":"
   ]
  },
  {
   "cell_type": "markdown",
   "id": "3b15b336-7a47-4dd1-a524-7b81509a009c",
   "metadata": {},
   "source": [
    "**ferma_dad.csv** - датафрейм хранит имя папы каждой коровы в стаде молочного хозяйства. \n",
    "\n",
    "**Описание данных:**\n",
    "\n",
    "* **id** — уникальный идентификатор коровы.\n",
    "* **daddy_name** — имя папы коровы."
   ]
  },
  {
   "cell_type": "code",
   "execution_count": 7,
   "id": "10d1e2ec-a6ea-475f-a8df-b44a9cec9f8f",
   "metadata": {},
   "outputs": [],
   "source": [
    "# Переименование столбцов датафрейма\n",
    "df_ferma_dad.columns = ['id', 'daddy_name']"
   ]
  },
  {
   "cell_type": "code",
   "execution_count": 8,
   "id": "3d283c48-276d-4523-b0f6-7e31c5d1be88",
   "metadata": {},
   "outputs": [
    {
     "name": "stdout",
     "output_type": "stream",
     "text": [
      "<class 'pandas.core.frame.DataFrame'>\n",
      "RangeIndex: 629 entries, 0 to 628\n",
      "Data columns (total 2 columns):\n",
      " #   Column      Non-Null Count  Dtype \n",
      "---  ------      --------------  ----- \n",
      " 0   id          629 non-null    int64 \n",
      " 1   daddy_name  629 non-null    object\n",
      "dtypes: int64(1), object(1)\n",
      "memory usage: 10.0+ KB\n"
     ]
    }
   ],
   "source": [
    "# Основная информация о датафрейме\n",
    "df_ferma_dad.info()"
   ]
  },
  {
   "cell_type": "code",
   "execution_count": 9,
   "id": "6cf64abd-4546-4d72-b7c9-39b705b2ad9c",
   "metadata": {},
   "outputs": [
    {
     "data": {
      "text/html": [
       "<div>\n",
       "<style scoped>\n",
       "    .dataframe tbody tr th:only-of-type {\n",
       "        vertical-align: middle;\n",
       "    }\n",
       "\n",
       "    .dataframe tbody tr th {\n",
       "        vertical-align: top;\n",
       "    }\n",
       "\n",
       "    .dataframe thead th {\n",
       "        text-align: right;\n",
       "    }\n",
       "</style>\n",
       "<table border=\"1\" class=\"dataframe\">\n",
       "  <thead>\n",
       "    <tr style=\"text-align: right;\">\n",
       "      <th></th>\n",
       "      <th>id</th>\n",
       "      <th>daddy_name</th>\n",
       "    </tr>\n",
       "  </thead>\n",
       "  <tbody>\n",
       "    <tr>\n",
       "      <th>0</th>\n",
       "      <td>1</td>\n",
       "      <td>Буйный</td>\n",
       "    </tr>\n",
       "    <tr>\n",
       "      <th>1</th>\n",
       "      <td>2</td>\n",
       "      <td>Соловчик</td>\n",
       "    </tr>\n",
       "    <tr>\n",
       "      <th>2</th>\n",
       "      <td>3</td>\n",
       "      <td>Барин</td>\n",
       "    </tr>\n",
       "    <tr>\n",
       "      <th>3</th>\n",
       "      <td>4</td>\n",
       "      <td>Буйный</td>\n",
       "    </tr>\n",
       "    <tr>\n",
       "      <th>4</th>\n",
       "      <td>5</td>\n",
       "      <td>Барин</td>\n",
       "    </tr>\n",
       "  </tbody>\n",
       "</table>\n",
       "</div>"
      ],
      "text/plain": [
       "   id daddy_name\n",
       "0   1     Буйный\n",
       "1   2   Соловчик\n",
       "2   3      Барин\n",
       "3   4     Буйный\n",
       "4   5      Барин"
      ]
     },
     "execution_count": 9,
     "metadata": {},
     "output_type": "execute_result"
    }
   ],
   "source": [
    "# Первые 5 строчек датафрейма\n",
    "df_ferma_dad.head()"
   ]
  },
  {
   "cell_type": "markdown",
   "id": "33f709c0-cf4e-4c32-aae1-ec8ee3b8b5b9",
   "metadata": {},
   "source": [
    "### Датафрейм \"df_cow_buy\":"
   ]
  },
  {
   "cell_type": "markdown",
   "id": "44878749-df9d-465e-8da1-9b33c5f0e4c8",
   "metadata": {},
   "source": [
    "**cow_buy.csv** — датафрейм с данными о коровах «ЭкоФермы». \n",
    "\n",
    "**Описание данных:**\n",
    "\n",
    "* **breed** — порода коровы.\n",
    "* **type_pasture** — тип пастбища - ландшафт лугов, на которых паслась корова.\n",
    "* **daddy_breed** — порода папы коровы.\n",
    "* **daddy_name** — имя папы коровы.\n",
    "* **fat_content_%** — содержание жиров в молоке (в процентах).\n",
    "* **protein_content_%** — содержание белков в молоке (в процентах).\n",
    "* **age** — возраст коровы, бинарный признак (менее_2_лет, более_2_лет)."
   ]
  },
  {
   "cell_type": "code",
   "execution_count": 10,
   "id": "8964f641-3652-4c58-84fc-141b620ee3f4",
   "metadata": {},
   "outputs": [],
   "source": [
    "# Переименование столбцов датафрейма\n",
    "df_cow_buy.columns = ['breed', 'type_pasture', 'daddy_breed', 'daddy_name', \n",
    "                      'fat_content_%', 'protein_content_%', 'age']"
   ]
  },
  {
   "cell_type": "code",
   "execution_count": 11,
   "id": "9a681518-146c-487f-8261-2edd28ce226e",
   "metadata": {},
   "outputs": [
    {
     "name": "stdout",
     "output_type": "stream",
     "text": [
      "<class 'pandas.core.frame.DataFrame'>\n",
      "RangeIndex: 20 entries, 0 to 19\n",
      "Data columns (total 7 columns):\n",
      " #   Column             Non-Null Count  Dtype \n",
      "---  ------             --------------  ----- \n",
      " 0   breed              20 non-null     object\n",
      " 1   type_pasture       20 non-null     object\n",
      " 2   daddy_breed        20 non-null     object\n",
      " 3   daddy_name         20 non-null     object\n",
      " 4   fat_content_%      20 non-null     object\n",
      " 5   protein_content_%  20 non-null     object\n",
      " 6   age                20 non-null     object\n",
      "dtypes: object(7)\n",
      "memory usage: 1.2+ KB\n"
     ]
    }
   ],
   "source": [
    "# Основная информация о датафрейме\n",
    "df_cow_buy.info()"
   ]
  },
  {
   "cell_type": "code",
   "execution_count": 12,
   "id": "4abb08db-a76a-4623-ac37-feb8c07c5f80",
   "metadata": {},
   "outputs": [
    {
     "data": {
      "text/html": [
       "<div>\n",
       "<style scoped>\n",
       "    .dataframe tbody tr th:only-of-type {\n",
       "        vertical-align: middle;\n",
       "    }\n",
       "\n",
       "    .dataframe tbody tr th {\n",
       "        vertical-align: top;\n",
       "    }\n",
       "\n",
       "    .dataframe thead th {\n",
       "        text-align: right;\n",
       "    }\n",
       "</style>\n",
       "<table border=\"1\" class=\"dataframe\">\n",
       "  <thead>\n",
       "    <tr style=\"text-align: right;\">\n",
       "      <th></th>\n",
       "      <th>breed</th>\n",
       "      <th>type_pasture</th>\n",
       "      <th>daddy_breed</th>\n",
       "      <th>daddy_name</th>\n",
       "      <th>fat_content_%</th>\n",
       "      <th>protein_content_%</th>\n",
       "      <th>age</th>\n",
       "    </tr>\n",
       "  </thead>\n",
       "  <tbody>\n",
       "    <tr>\n",
       "      <th>0</th>\n",
       "      <td>Вис Бик Айдиал</td>\n",
       "      <td>холмистое</td>\n",
       "      <td>Айдиал</td>\n",
       "      <td>Геркулес</td>\n",
       "      <td>3,58</td>\n",
       "      <td>3,076</td>\n",
       "      <td>более_2_лет</td>\n",
       "    </tr>\n",
       "    <tr>\n",
       "      <th>1</th>\n",
       "      <td>Вис Бик Айдиал</td>\n",
       "      <td>равнинное</td>\n",
       "      <td>Соверин</td>\n",
       "      <td>Буйный</td>\n",
       "      <td>3,54</td>\n",
       "      <td>3,081</td>\n",
       "      <td>менее_2_лет</td>\n",
       "    </tr>\n",
       "    <tr>\n",
       "      <th>2</th>\n",
       "      <td>РефлешнСоверинг</td>\n",
       "      <td>равнинное</td>\n",
       "      <td>Соверин</td>\n",
       "      <td>Барин</td>\n",
       "      <td>3,59</td>\n",
       "      <td>3,074</td>\n",
       "      <td>более_2_лет</td>\n",
       "    </tr>\n",
       "    <tr>\n",
       "      <th>3</th>\n",
       "      <td>РефлешнСоверинг</td>\n",
       "      <td>холмистое</td>\n",
       "      <td>Айдиал</td>\n",
       "      <td>Буйный</td>\n",
       "      <td>3,4</td>\n",
       "      <td>3,061</td>\n",
       "      <td>более_2_лет</td>\n",
       "    </tr>\n",
       "    <tr>\n",
       "      <th>4</th>\n",
       "      <td>РефлешнСоверинг</td>\n",
       "      <td>равнинное</td>\n",
       "      <td>Айдиал</td>\n",
       "      <td>Буйный</td>\n",
       "      <td>3,64</td>\n",
       "      <td>3,074</td>\n",
       "      <td>более_2_лет</td>\n",
       "    </tr>\n",
       "  </tbody>\n",
       "</table>\n",
       "</div>"
      ],
      "text/plain": [
       "             breed type_pasture daddy_breed daddy_name fat_content_%  \\\n",
       "0   Вис Бик Айдиал    холмистое      Айдиал   Геркулес          3,58   \n",
       "1   Вис Бик Айдиал    равнинное     Соверин     Буйный          3,54   \n",
       "2  РефлешнСоверинг    равнинное     Соверин      Барин          3,59   \n",
       "3  РефлешнСоверинг    холмистое      Айдиал     Буйный           3,4   \n",
       "4  РефлешнСоверинг    равнинное      Айдиал     Буйный          3,64   \n",
       "\n",
       "  protein_content_%          age  \n",
       "0             3,076  более_2_лет  \n",
       "1             3,081  менее_2_лет  \n",
       "2             3,074  более_2_лет  \n",
       "3             3,061  более_2_лет  \n",
       "4             3,074  более_2_лет  "
      ]
     },
     "execution_count": 12,
     "metadata": {},
     "output_type": "execute_result"
    }
   ],
   "source": [
    "# Первые 5 строчек датафрейма\n",
    "df_cow_buy.head()"
   ]
  },
  {
   "cell_type": "markdown",
   "id": "6dff0787-08db-46b8-9c34-1b13e9a1216f",
   "metadata": {},
   "source": [
    "### Вывод:"
   ]
  },
  {
   "cell_type": "markdown",
   "id": "3d14a38d-2387-48e7-a7a7-8812856f395e",
   "metadata": {},
   "source": [
    "На данном этапе мы познакомились с данными и теперь имеем общее представление о них. Так же нам это позволило составить предаврительный план по предобработке данных. \n",
    "\n",
    "На что мы обратили внимание, когда ознакамливались с общей информацией о датафреймах:\n",
    "\n",
    "* Отсутствие пропусков\n",
    "* Ни один из столбцов с типом данным **float** не определился самостоятельно, необходимо будет преобразовать данные столбцы в тип данных **float64**.\n",
    "* Необходимо все значения в столбцах типа **object** привести к единому стилю.\n",
    "* Проверить на наличие скрытых и явных дубликатов, отсутствие стандартов заполнения *строчных* значений потенциально может способствовать появлению скрытых дубликатов.\n",
    "* Разное количество строк в датафреймах **\"df_ferma_main\"** и **\"df_ferma_dad\"**. Необходимо будет проследить насколько полезен будет этот параметр для нашей модели."
   ]
  },
  {
   "cell_type": "markdown",
   "id": "d34bbcd3",
   "metadata": {},
   "source": [
    "##  Предобработка данных:"
   ]
  },
  {
   "cell_type": "markdown",
   "id": "5a042848-3eb8-4f13-9cab-09e4282727c8",
   "metadata": {},
   "source": [
    "### Изменение типов данных:"
   ]
  },
  {
   "cell_type": "markdown",
   "id": "1deafd64-1640-4526-885d-b5e5b6c39bde",
   "metadata": {},
   "source": [
    "#### Датафрейм \"df_ferma_main\":"
   ]
  },
  {
   "cell_type": "code",
   "execution_count": 13,
   "id": "9b475c43-3c95-44e0-8b5f-4c220e57b202",
   "metadata": {},
   "outputs": [],
   "source": [
    "# Преобразование типов данных\n",
    "# Создание списка столбцов\n",
    "columns_float = ['efu', 'spr', 'fat_content_%', 'protein_content_%']\n",
    "# Цикл для последовательного преобразования значений и их типа\n",
    "for i in columns_float:\n",
    "    df_ferma_main[i] = df_ferma_main[i].str.replace(',', '.').astype(float)"
   ]
  },
  {
   "cell_type": "markdown",
   "id": "1e8d5cf5-692f-429b-b919-b91aac96e586",
   "metadata": {},
   "source": [
    "#### Датафрейм \"df_cow_buy\":"
   ]
  },
  {
   "cell_type": "code",
   "execution_count": 14,
   "id": "b310235c-8ec1-428d-9049-c1ccd075a932",
   "metadata": {},
   "outputs": [],
   "source": [
    "# Преобразование типов данных\n",
    "# Создание списка столбцов\n",
    "columns_float = ['fat_content_%', 'protein_content_%']\n",
    "# Цикл для последовательного преобразования значений и их типа\n",
    "for i in columns_float:\n",
    "    df_cow_buy[i] = df_cow_buy[i].str.replace(',', '.').astype(float)"
   ]
  },
  {
   "cell_type": "markdown",
   "id": "e1240da0-3dc6-47c0-9ba4-c03d90f0d1c2",
   "metadata": {},
   "source": [
    "### Пропущенные значения:"
   ]
  },
  {
   "cell_type": "markdown",
   "id": "11e28432-62cf-4b8a-90d4-d9aae99db481",
   "metadata": {},
   "source": [
    "Исходя из общей информации во всех трех датафреймах отсутсвуют пропуски."
   ]
  },
  {
   "cell_type": "code",
   "execution_count": 15,
   "id": "2953f6b0-beb5-4cab-b6c2-c81fe31a6f91",
   "metadata": {},
   "outputs": [
    {
     "name": "stdout",
     "output_type": "stream",
     "text": [
      "Датафрейм: df_ferma_main\n",
      "------------------------------\n",
      "id                   0\n",
      "milk_yield_kg        0\n",
      "efu                  0\n",
      "crude_protein_g      0\n",
      "spr                  0\n",
      "breed                0\n",
      "type_pasture         0\n",
      "daddy_breed          0\n",
      "fat_content_%        0\n",
      "protein_content_%    0\n",
      "taste_milk           0\n",
      "age                  0\n",
      "dtype: int64\n",
      "\n",
      "Датафрейм: df_ferma_dad\n",
      "------------------------------\n",
      "id            0\n",
      "daddy_name    0\n",
      "dtype: int64\n",
      "\n",
      "Датафрейм: df_cow_buy\n",
      "------------------------------\n",
      "breed                0\n",
      "type_pasture         0\n",
      "daddy_breed          0\n",
      "daddy_name           0\n",
      "fat_content_%        0\n",
      "protein_content_%    0\n",
      "age                  0\n",
      "dtype: int64\n",
      "\n"
     ]
    }
   ],
   "source": [
    "# Проверяем на наличие пропусков в датафреймах\n",
    "# Список датафремов\n",
    "df_dict = {'df_ferma_main': df_ferma_main, \n",
    "           'df_ferma_dad': df_ferma_dad, \n",
    "           'df_cow_buy': df_cow_buy}\n",
    "\n",
    "for name, df in df_dict.items():\n",
    "    print(f'Датафрейм: {name}')\n",
    "    print('-' * 30)\n",
    "    print(df.isna().sum())\n",
    "    print()"
   ]
  },
  {
   "cell_type": "markdown",
   "id": "b6e8ae4f-7618-4e80-9c2f-b5d3371048dd",
   "metadata": {},
   "source": [
    "### Явные дубликаты:"
   ]
  },
  {
   "cell_type": "code",
   "execution_count": 16,
   "id": "8eb4ae74-90b0-462b-8ccf-fa1236e27cc5",
   "metadata": {},
   "outputs": [
    {
     "name": "stdout",
     "output_type": "stream",
     "text": [
      "Датафрейм: df_ferma_main\n",
      "------------------------------\n",
      "5\n",
      "Датафрейм: df_ferma_dad\n",
      "------------------------------\n",
      "0\n",
      "Датафрейм: df_cow_buy\n",
      "------------------------------\n",
      "4\n"
     ]
    }
   ],
   "source": [
    "# Проверяем на наличие явных дубликатов\n",
    "for name, df in df_dict.items():\n",
    "    print(f'Датафрейм: {name}')\n",
    "    print('-' * 30)\n",
    "    print(df.duplicated().sum())"
   ]
  },
  {
   "cell_type": "markdown",
   "id": "ac2c3f7a-4ae4-48a7-b38e-3d4b59a941e8",
   "metadata": {},
   "source": [
    "В датафрейме **\"df_ferma_main\"** у нас не может быть явных дубликатов, так как есть столбец уникальным индификатором, и это соотносится с количеством строк из второго датафрейма **\"df_ferma_dad\"**, значит все верно. Осталось определить, возможны ли явные дубликаты в датафрейме **\"df_cow_buy\"**.\n",
    "\n",
    "Все столбцы с типом данных **object** имеют категориальные значения, следовательно они могут повторяться, что не скажешь о столбцах с типом данных **float**. Проверим количество уникальных значений у соответствующих столбцов из датафрейма **\"df_ferma_main\"**, так как имеем там больше данных, если там количество уникальных значений значительно меньше количества строк, то мы допускаем, что значениям в этих столбцах допустимо повторятся."
   ]
  },
  {
   "cell_type": "code",
   "execution_count": 17,
   "id": "92d7c6e2-24f9-4869-b9ec-487ecbe6d312",
   "metadata": {},
   "outputs": [
    {
     "name": "stdout",
     "output_type": "stream",
     "text": [
      "Кол-во уникальных значений в столбце \"fat_content_%\": 50\n",
      "Кол-во уникальных значений в столбце \"protein_content_%\": 15\n"
     ]
    }
   ],
   "source": [
    "print('Кол-во уникальных значений в столбце \"fat_content_%\":', len(df_ferma_main['fat_content_%'].unique()))\n",
    "print('Кол-во уникальных значений в столбце \"protein_content_%\":', len(df_ferma_main['protein_content_%'].unique()))"
   ]
  },
  {
   "cell_type": "markdown",
   "id": "73c566e8-c554-42ca-99b7-e82783823f6d",
   "metadata": {},
   "source": [
    "Количество уникальных значений очень мало, значит этим значениям свойственно повторятся, следовательно мы допускаем явные дубликаты в датафрейме **\"df_cow_buy\"**.\n",
    "\n",
    "Удаляем явные дубликаты только в датафрейме **\"df_ferma_main\"**."
   ]
  },
  {
   "cell_type": "code",
   "execution_count": 18,
   "id": "62e5afd5-36e8-417f-a7ae-bc49e62615d1",
   "metadata": {},
   "outputs": [],
   "source": [
    "# Удаляем явные дубликаты\n",
    "df_ferma_main = df_ferma_main.drop_duplicates().reset_index(drop=True)"
   ]
  },
  {
   "cell_type": "markdown",
   "id": "a8b58e4c-83f4-48f9-8baa-53d6fa2427d7",
   "metadata": {},
   "source": [
    "### Неявные дубликаты:"
   ]
  },
  {
   "cell_type": "code",
   "execution_count": null,
   "id": "d6167622-1898-4142-836c-8d6f3a1e9a07",
   "metadata": {},
   "outputs": [],
   "source": []
  },
  {
   "cell_type": "markdown",
   "id": "7ce171a6",
   "metadata": {},
   "source": [
    "## Исследовательский анализ данных"
   ]
  },
  {
   "cell_type": "code",
   "execution_count": null,
   "id": "774b6588",
   "metadata": {},
   "outputs": [],
   "source": []
  },
  {
   "cell_type": "markdown",
   "id": "4e81e621",
   "metadata": {},
   "source": [
    "## Корреляционный анализ"
   ]
  },
  {
   "cell_type": "code",
   "execution_count": null,
   "id": "6591835e",
   "metadata": {},
   "outputs": [],
   "source": []
  },
  {
   "cell_type": "markdown",
   "id": "b1a0869f",
   "metadata": {},
   "source": [
    "## Обучение модели линейной регрессии"
   ]
  },
  {
   "cell_type": "code",
   "execution_count": null,
   "id": "80ab3b75",
   "metadata": {},
   "outputs": [],
   "source": []
  },
  {
   "cell_type": "markdown",
   "id": "3f38e842",
   "metadata": {},
   "source": [
    "## Обучение модели логистической регрессии"
   ]
  },
  {
   "cell_type": "code",
   "execution_count": null,
   "id": "0b600ca9",
   "metadata": {},
   "outputs": [],
   "source": []
  },
  {
   "cell_type": "markdown",
   "id": "bfad7482",
   "metadata": {},
   "source": [
    "## Итоговые выводы"
   ]
  },
  {
   "cell_type": "code",
   "execution_count": null,
   "id": "a081f0a7",
   "metadata": {},
   "outputs": [],
   "source": []
  },
  {
   "cell_type": "code",
   "execution_count": null,
   "id": "105bbc1f",
   "metadata": {},
   "outputs": [],
   "source": []
  }
 ],
 "metadata": {
  "kernelspec": {
   "display_name": "Python 3 (ipykernel)",
   "language": "python",
   "name": "python3"
  },
  "language_info": {
   "codemirror_mode": {
    "name": "ipython",
    "version": 3
   },
   "file_extension": ".py",
   "mimetype": "text/x-python",
   "name": "python",
   "nbconvert_exporter": "python",
   "pygments_lexer": "ipython3",
   "version": "3.11.11"
  },
  "toc": {
   "base_numbering": 1,
   "nav_menu": {},
   "number_sections": false,
   "sideBar": true,
   "skip_h1_title": false,
   "title_cell": "Table of Contents",
   "title_sidebar": "Contents",
   "toc_cell": false,
   "toc_position": {},
   "toc_section_display": true,
   "toc_window_display": false
  },
  "varInspector": {
   "cols": {
    "lenName": 16,
    "lenType": 16,
    "lenVar": 40
   },
   "kernels_config": {
    "python": {
     "delete_cmd_postfix": "",
     "delete_cmd_prefix": "del ",
     "library": "var_list.py",
     "varRefreshCmd": "print(var_dic_list())"
    },
    "r": {
     "delete_cmd_postfix": ") ",
     "delete_cmd_prefix": "rm(",
     "library": "var_list.r",
     "varRefreshCmd": "cat(var_dic_list()) "
    }
   },
   "types_to_exclude": [
    "module",
    "function",
    "builtin_function_or_method",
    "instance",
    "_Feature"
   ],
   "window_display": false
  }
 },
 "nbformat": 4,
 "nbformat_minor": 5
}
